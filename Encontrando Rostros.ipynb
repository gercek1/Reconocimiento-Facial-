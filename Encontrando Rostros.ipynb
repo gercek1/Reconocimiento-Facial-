{
 "cells": [
  {
   "cell_type": "markdown",
   "metadata": {},
   "source": [
    "## Reconocimiento facial con open cv\n",
    " En este articulo veremos como realizar reconocimiento facial en Python usando OpenCV, para ello emplearemos: Eigenfaces, Fisherfaces y Local Binary Patterns Histograms. Para poder llevar a cabo el reconocimiento facial, en primer lugar necesitaremos recolectar los datos, es decir los rostros de las personas que se desee reconocer, posteriormente entrenaremos el clasificador, para finalmente probarlo. Para todo este proceso será necesario usar la  detección de rostros con haarcascades\n"
   ]
  },
  {
   "cell_type": "markdown",
   "metadata": {},
   "source": [
    "## Recolectar datos \n",
    "Empecemos por proveer los pasos y codigo necesarios para poder implementar el reconocimiento facial. Por lo que empezemos por nuestro primer paso recolectar los datos necesarios para entrenar el reconocedor.\n",
    "Antes de empezar,es necesario entender la diferencia entre la detección y reconocimiento de rostros, ya que son términos que muchas veces se usan como si se refiriera a una misma acción.\n",
    "\n",
    "La diferencia es simple, la detección de rostros busca caras dentro de una imagen o dentro fotogramas en caso de emplear un video. El reconocimiento facial  en cambio emplea la detección de rostros y buscará identificar a la persona que le pertenece aquel rostro detectado.\n"
   ]
  },
  {
   "cell_type": "markdown",
   "metadata": {},
   "source": [
    "![reconocedor](https://user-images.githubusercontent.com/49911347/150588586-b5addcfc-81f3-4732-bfce-f49d8f516719.png)"
   ]
  },
  {
   "cell_type": "markdown",
   "metadata": {},
   "source": [
    "importamos las librerias a utilizar para el proyecto."
   ]
  },
  {
   "cell_type": "code",
   "execution_count": null,
   "metadata": {},
   "outputs": [],
   "source": [
    "import cv2\n",
    "import os \n",
    "import imutils"
   ]
  },
  {
   "cell_type": "markdown",
   "metadata": {},
   "source": [
    "## Creando la base de datos de los rostros \n",
    "Para realizar el reconocimiento facial necesitaremos de los rostros de las personas que deseemos reconocer. Estos rostros deberán denotar variedad de expresiones como: felicidad, tristeza, aburrimiento, sorpresa, entre otros. Otro aspecto que deben tener estas imágenes es la variación de condiciones de luz, que las personas lleven lentes o que no los lleven, incluso que cierren los ojos o guiñen uno.\n",
    "Es recomendable que se realice la recolección de estas imágenes en el escenario o ambiente en donde se vaya a aplicar el reconocimiento facial. Toda esta variedad de imágenes que se obtenga de los rostros contribuirá al desempeño de los algoritmos que usaremos y según vayas experimentado podrás añadir o quitar algunas de estas condiciones."
   ]
  },
  {
   "cell_type": "markdown",
   "metadata": {},
   "source": [
    "## Codigo\n",
    "\n",
    "Pasemos al código. Para almacenar los rostros en nuestra base de datos podemos usar un video con el rostro de la persona que queremos reconocer o también podemos usar un video streaming. En este código llamado EncontrandoRostros.py se almacenarán automáticamente 300 rostros dado un video Streaming en este caso. El cual se guardaran en una carpeta llamada \"Olmar\", dentro de la ruta especificada."
   ]
  },
  {
   "cell_type": "code",
   "execution_count": 2,
   "metadata": {},
   "outputs": [],
   "source": [
    "personName = 'olmar'\n",
    "dataPath = 'Desktop/Proyecto/Data' # ruta\n",
    "personPath = dataPath + '/' + personName\n",
    "if not os.path.exists(personPath):\n",
    "    print('Carpeta creada: ',personPath)\n",
    "    os.makedirs(personPath)\n",
    "cap = cv2.VideoCapture(0,cv2.CAP_DSHOW) #video streaming\n",
    "#cap = cv2.VideoCapture('Video.mp4')\n",
    "faceClassif = cv2.CascadeClassifier(cv2.data.haarcascades+'haarcascade_frontalface_default.xml')\n",
    "count = 0\n",
    "while True:\n",
    "    \n",
    "    ret, frame = cap.read()\n",
    "    if ret == False: break\n",
    "    frame =  imutils.resize(frame, width=640)\n",
    "    gray = cv2.cvtColor(frame, cv2.COLOR_BGR2GRAY)\n",
    "    auxFrame = frame.copy()\n",
    "    faces = faceClassif.detectMultiScale(gray,1.3,5)\n",
    "    for (x,y,w,h) in faces:\n",
    "        cv2.rectangle(frame, (x,y),(x+w,y+h),(0,255,0),2)\n",
    "        rostro = auxFrame[y:y+h,x:x+w]\n",
    "        rostro = cv2.resize(rostro,(150,150),interpolation=cv2.INTER_CUBIC)\n",
    "        cv2.imwrite(personPath + '/rotro_{}.jpg'.format(count),rostro)\n",
    "        count = count + 1\n",
    "    cv2.imshow('frame',frame)\n",
    "    k =  cv2.waitKey(1)\n",
    "    if k == 27 or count >= 300: #almacenando 300 rostros\n",
    "        break\n",
    "cap.release()\n",
    "cv2.destroyAllWindows()\n",
    " "
   ]
  },
  {
   "cell_type": "code",
   "execution_count": null,
   "metadata": {},
   "outputs": [],
   "source": []
  }
 ],
 "metadata": {
  "kernelspec": {
   "display_name": "Python 3",
   "language": "python",
   "name": "python3"
  },
  "language_info": {
   "codemirror_mode": {
    "name": "ipython",
    "version": 3
   },
   "file_extension": ".py",
   "mimetype": "text/x-python",
   "name": "python",
   "nbconvert_exporter": "python",
   "pygments_lexer": "ipython3",
   "version": "3.8.5"
  }
 },
 "nbformat": 4,
 "nbformat_minor": 4
}
